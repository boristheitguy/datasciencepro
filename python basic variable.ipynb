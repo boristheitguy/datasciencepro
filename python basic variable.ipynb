{
 "cells": [
  {
   "cell_type": "code",
   "execution_count": null,
   "id": "b97545e5-28fe-4976-a96e-4bbd0679908a",
   "metadata": {},
   "outputs": [],
   "source": [
    "1+2"
   ]
  },
  {
   "cell_type": "code",
   "execution_count": null,
   "id": "a1f43100-db82-4127-9cb8-ca6cf7ca454e",
   "metadata": {},
   "outputs": [],
   "source": [
    "a=10\n"
   ]
  },
  {
   "cell_type": "code",
   "execution_count": null,
   "id": "2d3b099e-a239-47b9-8737-80160373e2c3",
   "metadata": {},
   "outputs": [],
   "source": [
    "a"
   ]
  },
  {
   "cell_type": "code",
   "execution_count": null,
   "id": "4bfe9c30-661d-49a3-8164-2aa0a59364be",
   "metadata": {},
   "outputs": [],
   "source": [
    "print(a)"
   ]
  },
  {
   "cell_type": "code",
   "execution_count": null,
   "id": "f030e266-9c8e-466a-9323-1486ce7b5886",
   "metadata": {},
   "outputs": [],
   "source": [
    "print(\"a\")"
   ]
  },
  {
   "cell_type": "code",
   "execution_count": null,
   "id": "086bdec4-2f52-4bca-b97e-38d2f9b4e5ee",
   "metadata": {},
   "outputs": [],
   "source": [
    "sudh = 73248327489"
   ]
  },
  {
   "cell_type": "code",
   "execution_count": null,
   "id": "67cb70b3-d5d7-48ec-aa4c-32c7960fe0c3",
   "metadata": {},
   "outputs": [],
   "source": [
    "sudh"
   ]
  },
  {
   "cell_type": "code",
   "execution_count": null,
   "id": "7033dcf0-5685-4ecb-922a-b1535d18abea",
   "metadata": {},
   "outputs": [],
   "source": [
    "type (9)"
   ]
  },
  {
   "cell_type": "code",
   "execution_count": null,
   "id": "e4295fca-2f01-4e68-bfcd-3c2d9509b24e",
   "metadata": {},
   "outputs": [],
   "source": [
    "type (\"9\")"
   ]
  },
  {
   "cell_type": "code",
   "execution_count": null,
   "id": "4513a49e-beec-469a-ac35-a73a8651cb70",
   "metadata": {},
   "outputs": [],
   "source": [
    "type (a)"
   ]
  },
  {
   "cell_type": "code",
   "execution_count": null,
   "id": "b95ee938-480b-452a-847a-6a7af7a2e65c",
   "metadata": {},
   "outputs": [],
   "source": [
    "c = 5+6j"
   ]
  },
  {
   "cell_type": "code",
   "execution_count": null,
   "id": "64ac041f-13b8-4f92-868e-6f6502ecc8d2",
   "metadata": {},
   "outputs": [],
   "source": [
    "type (c)"
   ]
  },
  {
   "cell_type": "code",
   "execution_count": null,
   "id": "d3e3e6c4-968d-41af-86ac-7dc6951a38de",
   "metadata": {},
   "outputs": [],
   "source": [
    "c.real"
   ]
  },
  {
   "cell_type": "code",
   "execution_count": null,
   "id": "1999b39b-6c55-4d5a-9f99-d55a66e7b04d",
   "metadata": {},
   "outputs": [],
   "source": [
    "c.imag"
   ]
  },
  {
   "cell_type": "code",
   "execution_count": null,
   "id": "7a898c89-7df3-4402-8b82-3da4681390bf",
   "metadata": {},
   "outputs": [],
   "source": [
    "b = True"
   ]
  },
  {
   "cell_type": "code",
   "execution_count": null,
   "id": "8b43df87-f4f1-4a8e-843a-3dd13e83a560",
   "metadata": {},
   "outputs": [],
   "source": [
    "type(b)"
   ]
  },
  {
   "cell_type": "code",
   "execution_count": null,
   "id": "0ce5612e-ce54-4e65-8592-20a91740af72",
   "metadata": {},
   "outputs": [],
   "source": [
    "type (b)"
   ]
  },
  {
   "cell_type": "code",
   "execution_count": null,
   "id": "4d7fd2e6-a4a7-435d-ac28-0538052e1c81",
   "metadata": {},
   "outputs": [],
   "source": [
    "c = True"
   ]
  },
  {
   "cell_type": "code",
   "execution_count": null,
   "id": "718aa18a-2864-4ee5-9da4-03b11a29c693",
   "metadata": {},
   "outputs": [],
   "source": [
    "type (c)"
   ]
  },
  {
   "cell_type": "code",
   "execution_count": null,
   "id": "ecb31378-9c84-46d6-9b19-a84c6bdd5ab0",
   "metadata": {},
   "outputs": [],
   "source": [
    "a1 = 45\n",
    "a2 = 15"
   ]
  },
  {
   "cell_type": "code",
   "execution_count": null,
   "id": "008f57bd-54fa-4992-9dfe-7bc0c01b900b",
   "metadata": {},
   "outputs": [],
   "source": [
    "a1+a2"
   ]
  },
  {
   "cell_type": "code",
   "execution_count": null,
   "id": "fc8e1f68-444b-4178-b3ee-f53e65106530",
   "metadata": {},
   "outputs": [],
   "source": [
    "a1/a2"
   ]
  },
  {
   "cell_type": "code",
   "execution_count": null,
   "id": "7e60c6ee-1971-47aa-81c8-10cc9a3c55ae",
   "metadata": {},
   "outputs": [],
   "source": [
    "a,b = 13,20"
   ]
  },
  {
   "cell_type": "code",
   "execution_count": null,
   "id": "5f01588b-9799-4d6f-923c-9f7b7c367f85",
   "metadata": {},
   "outputs": [],
   "source": [
    "a"
   ]
  },
  {
   "cell_type": "code",
   "execution_count": null,
   "id": "2aa7dfeb-9952-4c4d-a98d-fe98a6f47401",
   "metadata": {},
   "outputs": [],
   "source": [
    "b"
   ]
  },
  {
   "cell_type": "code",
   "execution_count": null,
   "id": "e18a8bd1-e7f3-4bef-8622-187dc07ee8de",
   "metadata": {},
   "outputs": [],
   "source": [
    "int = 20"
   ]
  },
  {
   "cell_type": "code",
   "execution_count": null,
   "id": "868900b5-c25b-49c3-97db-b22ef3de896f",
   "metadata": {},
   "outputs": [],
   "source": [
    "int"
   ]
  },
  {
   "cell_type": "code",
   "execution_count": null,
   "id": "75a0fc4d-1d46-4253-b5a5-decb987f1349",
   "metadata": {},
   "outputs": [],
   "source": [
    "20"
   ]
  },
  {
   "cell_type": "code",
   "execution_count": null,
   "id": "9e8935e0-3607-4d89-9146-37dd64b82997",
   "metadata": {},
   "outputs": [],
   "source": [
    "b1 = True"
   ]
  },
  {
   "cell_type": "code",
   "execution_count": null,
   "id": "81daecee-9442-4845-8c23-9cf6b05cfbe8",
   "metadata": {},
   "outputs": [],
   "source": [
    "b2 = False"
   ]
  },
  {
   "cell_type": "code",
   "execution_count": null,
   "id": "dc4eb1b2-00d5-4756-b3e1-e69197591856",
   "metadata": {},
   "outputs": [],
   "source": [
    "b1 - b2"
   ]
  },
  {
   "cell_type": "code",
   "execution_count": null,
   "id": "afe0b61d-0bc1-4cb1-9342-aec0b57f30b0",
   "metadata": {},
   "outputs": [],
   "source": [
    "b2/b1"
   ]
  },
  {
   "cell_type": "code",
   "execution_count": null,
   "id": "19be975d-f85c-4b4a-b8c8-69cd57a74470",
   "metadata": {},
   "outputs": [],
   "source": [
    "#testing\n",
    "b3 = \" it's \""
   ]
  },
  {
   "cell_type": "code",
   "execution_count": null,
   "id": "bd14a1c7-21ae-4fc1-8c81-a4ba4d9340fa",
   "metadata": {},
   "outputs": [],
   "source": [
    "b3"
   ]
  },
  {
   "cell_type": "code",
   "execution_count": null,
   "id": "177c6f69-ff3b-44f0-9f8a-84131d2ee028",
   "metadata": {},
   "outputs": [],
   "source": [
    "\"it's\""
   ]
  },
  {
   "cell_type": "code",
   "execution_count": null,
   "id": "ee6dd8fb-099d-4010-a92b-ccb4e306b07a",
   "metadata": {},
   "outputs": [],
   "source": [
    "s2 = \"djkfsdl\""
   ]
  },
  {
   "cell_type": "code",
   "execution_count": null,
   "id": "d32bed7b-ce80-4f7c-a97f-ab112d08f7aa",
   "metadata": {},
   "outputs": [],
   "source": [
    "s3 =10"
   ]
  },
  {
   "cell_type": "code",
   "execution_count": null,
   "id": "17dd9679-77f1-43dc-8fa8-5f544b0a81a7",
   "metadata": {},
   "outputs": [],
   "source": [
    "s2 +s3"
   ]
  },
  {
   "cell_type": "code",
   "execution_count": null,
   "id": "0fd07aeb-a900-4ac8-9a54-9d480ad6dc4a",
   "metadata": {},
   "outputs": [],
   "source": [
    "s3=\"10\""
   ]
  },
  {
   "cell_type": "code",
   "execution_count": null,
   "id": "c9c5d68a-9b9e-4108-9bf3-0ac692d465ec",
   "metadata": {},
   "outputs": [],
   "source": [
    "s2+s3"
   ]
  },
  {
   "cell_type": "code",
   "execution_count": null,
   "id": "022fc020-1368-4681-8ba7-6642c79c03cf",
   "metadata": {},
   "outputs": [],
   "source": [
    "s3 = str (10)"
   ]
  },
  {
   "cell_type": "code",
   "execution_count": null,
   "id": "78ba8898-7e68-454f-8a4f-d5ee47a21df3",
   "metadata": {},
   "outputs": [],
   "source": [
    "s2+s3"
   ]
  },
  {
   "cell_type": "code",
   "execution_count": null,
   "id": "26619440-7b30-4eed-832d-04c8a603ea3a",
   "metadata": {},
   "outputs": [],
   "source": [
    "s2 + '' + S3"
   ]
  },
  {
   "cell_type": "code",
   "execution_count": null,
   "id": "92753f58-bf07-4fa1-a118-0c4aaa4c7e05",
   "metadata": {},
   "outputs": [],
   "source": [
    "s2 + '' + S3"
   ]
  },
  {
   "cell_type": "code",
   "execution_count": null,
   "id": "6cb60339-7611-4ca2-9d25-10da91f7f445",
   "metadata": {},
   "outputs": [],
   "source": [
    "s2 + '' + s3"
   ]
  },
  {
   "cell_type": "code",
   "execution_count": null,
   "id": "6dc0a3a9-b760-483f-b365-3a72ce8c6435",
   "metadata": {},
   "outputs": [],
   "source": [
    "s3"
   ]
  },
  {
   "cell_type": "code",
   "execution_count": null,
   "id": "aaca5dd7-59bb-47cf-8610-a09b0e570d06",
   "metadata": {},
   "outputs": [],
   "source": [
    "int (s3)"
   ]
  },
  {
   "cell_type": "code",
   "execution_count": null,
   "id": "0d3fbe88-b894-4e83-988a-539d20688bce",
   "metadata": {},
   "outputs": [],
   "source": [
    "int (s3)"
   ]
  },
  {
   "cell_type": "code",
   "execution_count": null,
   "id": "d190d2f7-d341-46b9-bfc7-9b75e32d367c",
   "metadata": {},
   "outputs": [],
   "source": [
    "type (s3)"
   ]
  },
  {
   "cell_type": "code",
   "execution_count": null,
   "id": "0a043218-bae7-47d3-ae8e-a6e0437c4781",
   "metadata": {},
   "outputs": [],
   "source": [
    "s3"
   ]
  },
  {
   "cell_type": "code",
   "execution_count": null,
   "id": "78a62a63-6089-414b-b94e-63586f4507da",
   "metadata": {},
   "outputs": [],
   "source": [
    "type (s2)"
   ]
  },
  {
   "cell_type": "code",
   "execution_count": null,
   "id": "6606142e-e3a7-43f5-9464-55c45d3fc1c3",
   "metadata": {},
   "outputs": [],
   "source": [
    "int (s3)"
   ]
  },
  {
   "cell_type": "code",
   "execution_count": null,
   "id": "3451a77f-0505-4738-9e35-e612e9b8058b",
   "metadata": {},
   "outputs": [],
   "source": [
    "s3 = 10"
   ]
  },
  {
   "cell_type": "code",
   "execution_count": null,
   "id": "e0328987-20ed-45fc-be15-0bbb20c67945",
   "metadata": {},
   "outputs": [],
   "source": [
    "s3"
   ]
  },
  {
   "cell_type": "code",
   "execution_count": null,
   "id": "d49b175a-7b71-4892-84a6-9b1d6052d3c7",
   "metadata": {},
   "outputs": [],
   "source": [
    "s3 = '10\""
   ]
  },
  {
   "cell_type": "code",
   "execution_count": null,
   "id": "16d1d9c5-41ac-4547-a0f3-9fc8c39d837e",
   "metadata": {},
   "outputs": [],
   "source": [
    "s3 = str(10)"
   ]
  },
  {
   "cell_type": "code",
   "execution_count": null,
   "id": "df0dec22-1034-40bd-b368-ca97799c9882",
   "metadata": {},
   "outputs": [],
   "source": [
    "s3"
   ]
  },
  {
   "cell_type": "code",
   "execution_count": null,
   "id": "347e44bc-9b7d-47ba-979c-9eb576268db3",
   "metadata": {},
   "outputs": [],
   "source": [
    "int (s3)"
   ]
  },
  {
   "cell_type": "code",
   "execution_count": 2,
   "id": "4fdcfad6-6fc0-48f1-bbca-544aa3eb38a8",
   "metadata": {},
   "outputs": [
    {
     "name": "stdin",
     "output_type": "stream",
     "text": [
      " True\n"
     ]
    },
    {
     "ename": "ValueError",
     "evalue": "invalid literal for int() with base 10: 'True'",
     "output_type": "error",
     "traceback": [
      "\u001b[0;31m---------------------------------------------------------------------------\u001b[0m",
      "\u001b[0;31mValueError\u001b[0m                                Traceback (most recent call last)",
      "Cell \u001b[0;32mIn[2], line 1\u001b[0m\n\u001b[0;32m----> 1\u001b[0m b \u001b[38;5;241m=\u001b[39m \u001b[38;5;28;43mint\u001b[39;49m\u001b[43m(\u001b[49m\u001b[38;5;28;43minput\u001b[39;49m\u001b[43m \u001b[49m\u001b[43m(\u001b[49m\u001b[43m)\u001b[49m\u001b[43m)\u001b[49m\n",
      "\u001b[0;31mValueError\u001b[0m: invalid literal for int() with base 10: 'True'"
     ]
    }
   ],
   "source": [
    "b = bool (input ())\n",
    "\n"
   ]
  },
  {
   "cell_type": "code",
   "execution_count": 3,
   "id": "dfdd57bf-da0c-4241-abcc-b3b634ec67aa",
   "metadata": {},
   "outputs": [
    {
     "ename": "NameError",
     "evalue": "name 'b' is not defined",
     "output_type": "error",
     "traceback": [
      "\u001b[0;31m---------------------------------------------------------------------------\u001b[0m",
      "\u001b[0;31mNameError\u001b[0m                                 Traceback (most recent call last)",
      "Cell \u001b[0;32mIn[3], line 1\u001b[0m\n\u001b[0;32m----> 1\u001b[0m \u001b[43mb\u001b[49m\n",
      "\u001b[0;31mNameError\u001b[0m: name 'b' is not defined"
     ]
    }
   ],
   "source": [
    "b"
   ]
  },
  {
   "cell_type": "code",
   "execution_count": 11,
   "id": "2c8d0fc3-0d06-4445-9900-d01d54566e2d",
   "metadata": {},
   "outputs": [
    {
     "name": "stdin",
     "output_type": "stream",
     "text": [
      " false\n"
     ]
    }
   ],
   "source": [
    "d = bool(input())\n"
   ]
  },
  {
   "cell_type": "code",
   "execution_count": 12,
   "id": "bb52f428-c123-4fe1-9246-60e07e8988b5",
   "metadata": {},
   "outputs": [
    {
     "data": {
      "text/plain": [
       "True"
      ]
     },
     "execution_count": 12,
     "metadata": {},
     "output_type": "execute_result"
    }
   ],
   "source": [
    "d"
   ]
  },
  {
   "cell_type": "code",
   "execution_count": 13,
   "id": "029fcfb3-f635-4782-b798-2745bee25a62",
   "metadata": {},
   "outputs": [
    {
     "name": "stdin",
     "output_type": "stream",
     "text": [
      " False\n"
     ]
    }
   ],
   "source": [
    "e = bool (input())"
   ]
  },
  {
   "cell_type": "code",
   "execution_count": 14,
   "id": "dec40efd-e898-4e54-af15-fc2d9c7e9e67",
   "metadata": {},
   "outputs": [
    {
     "data": {
      "text/plain": [
       "True"
      ]
     },
     "execution_count": 14,
     "metadata": {},
     "output_type": "execute_result"
    }
   ],
   "source": [
    "e"
   ]
  },
  {
   "cell_type": "code",
   "execution_count": 17,
   "id": "8f898be0-f49f-4bcf-a925-1746e8272273",
   "metadata": {},
   "outputs": [
    {
     "name": "stdin",
     "output_type": "stream",
     "text": [
      " False\n"
     ]
    }
   ],
   "source": [
    "g = bool(input())\n"
   ]
  },
  {
   "cell_type": "code",
   "execution_count": 18,
   "id": "2d45259a-f9b0-4f4e-b139-a697ddd73f8b",
   "metadata": {},
   "outputs": [
    {
     "data": {
      "text/plain": [
       "True"
      ]
     },
     "execution_count": 18,
     "metadata": {},
     "output_type": "execute_result"
    }
   ],
   "source": [
    "g"
   ]
  },
  {
   "cell_type": "code",
   "execution_count": null,
   "id": "1976eaf3-5d77-4348-822c-fdac88461c8b",
   "metadata": {},
   "outputs": [],
   "source": []
  }
 ],
 "metadata": {
  "kernelspec": {
   "display_name": "Python 3 (ipykernel)",
   "language": "python",
   "name": "python3"
  },
  "language_info": {
   "codemirror_mode": {
    "name": "ipython",
    "version": 3
   },
   "file_extension": ".py",
   "mimetype": "text/x-python",
   "name": "python",
   "nbconvert_exporter": "python",
   "pygments_lexer": "ipython3",
   "version": "3.10.8"
  }
 },
 "nbformat": 4,
 "nbformat_minor": 5
}
